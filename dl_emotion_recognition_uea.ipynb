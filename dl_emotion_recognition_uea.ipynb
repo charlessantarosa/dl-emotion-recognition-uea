{
  "nbformat": 4,
  "nbformat_minor": 0,
  "metadata": {
    "colab": {
      "name": "dl-emotion-recognition-uea.ipynb",
      "private_outputs": true,
      "provenance": [],
      "collapsed_sections": [],
      "machine_shape": "hm",
      "authorship_tag": "ABX9TyPopeSaJUwkUS0N5BbvpRMt",
      "include_colab_link": true
    },
    "kernelspec": {
      "name": "python3",
      "display_name": "Python 3"
    },
    "language_info": {
      "name": "python"
    },
    "accelerator": "GPU"
  },
  "cells": [
    {
      "cell_type": "markdown",
      "metadata": {
        "id": "view-in-github",
        "colab_type": "text"
      },
      "source": [
        "<a href=\"https://colab.research.google.com/github/charlessantarosa/dl-emotion-recognition-uea/blob/master/dl_emotion_recognition_uea.ipynb\" target=\"_parent\"><img src=\"https://colab.research.google.com/assets/colab-badge.svg\" alt=\"Open In Colab\"/></a>"
      ]
    },
    {
      "cell_type": "markdown",
      "metadata": {
        "id": "KPL-3IaZRw5Y"
      },
      "source": [
        "<div>\n",
        "    <h1><strong>Dataset: Natural Human Face Images for Emotion Recognition</strong></h1>\n",
        "    <h4>Link: <a href=\"https://www.kaggle.com/sudarshanvaidya/random-images-for-face-emotion-recognition\">https://www.kaggle.com/sudarshanvaidya/random-images-for-face-emotion-recognition</a></h4>\n",
        "    <div id=\"text\">\n",
        "        <p>\n",
        "São 5.500 + imagens com 8 categorias de emoções - raiva, desprezo, nojo, medo, felicidade, neutralidade, tristeza e surpresa. Todas as imagens contêm rosto humano em tons de cinza (ou esboço). Cada imagem tem uma escala de cinza de 224 x 224 pixels no formato PNG.</p>\n",
        "<p>As imagens são obtidas na Internet, onde estão disponíveis gratuitamente para download. Google, Unsplash, Flickr etc.</p>\n",
        "    </div>\n",
        "</div>"
      ]
    },
    {
      "cell_type": "code",
      "metadata": {
        "id": "xAD6xRIaOb6o"
      },
      "source": [
        "import os\n",
        "import cv2\n",
        "from urllib.request import urlopen\n",
        "import math\n",
        "import numpy as np\n",
        "import pandas as pd\n",
        "from matplotlib import pyplot as plt\n",
        "\n",
        "import seaborn as sns\n",
        "from matplotlib import pyplot\n",
        "\n",
        "from sklearn.model_selection import train_test_split\n",
        "from sklearn.metrics import classification_report\n",
        "from sklearn.preprocessing import LabelEncoder\n",
        "\n",
        "import tensorflow as tf\n",
        "from tensorflow.keras import optimizers\n",
        "from tensorflow.keras.models import Model\n",
        "from tensorflow.keras.layers import Flatten, Dense, GlobalAvgPool2D, GlobalMaxPool2D\n",
        "from keras.preprocessing.image import load_img, img_to_array\n",
        "from keras.preprocessing.image import ImageDataGenerator\n",
        "from tensorflow.keras.utils import plot_model\n",
        "\n",
        "from keras.models import Sequential\n",
        "from keras.layers import Dense\n",
        "from keras.layers import Dropout\n",
        "from keras.layers import Flatten\n",
        "from keras.layers.convolutional import Conv2D\n",
        "from keras.layers.convolutional import MaxPooling2D\n",
        "\n",
        "from keras.utils import np_utils\n",
        "from keras.utils.np_utils import to_categorical"
      ],
      "execution_count": null,
      "outputs": []
    },
    {
      "cell_type": "code",
      "metadata": {
        "id": "O5_sXP_qdpZb"
      },
      "source": [
        "# Currenty Directory\n",
        "PATH_ROOT = !pwd\n",
        "PATH_ROOT\n",
        "\n",
        "# Global Vars\n",
        "DATASET_FILE = 'dl-emotion-recognition-uea.zip'\n",
        "DATASET_GOOGLE_DRIVER_ID = '1J0xMHoQqC6zBibSxukK-Gshfb5kK-P1y'\n",
        "DATASET_PATH = PATH_ROOT[0] + '/dataset/'\n",
        "\n",
        "# Download Dataset.zip from GoogleDriver\n",
        "!gdown --id $DATASET_GOOGLE_DRIVER_ID\n",
        "!unzip -o $DATASET_FILE\n",
        "\n",
        "# !ls -la $DATASET_PATH\n",
        "\n",
        "# DATASET_PATH = '/home/charles/uea/deep-learning/datasets/dl-emotion-recognition-uea/'\n",
        "# !ls -la $DATASET_PATH"
      ],
      "execution_count": null,
      "outputs": []
    },
    {
      "cell_type": "code",
      "metadata": {
        "id": "CMc8z-nnAcs_"
      },
      "source": [
        "!ls -la $DATASET_PATH"
      ],
      "execution_count": null,
      "outputs": []
    },
    {
      "cell_type": "code",
      "metadata": {
        "id": "0Zc-D7HASH_v"
      },
      "source": [
        "# Processing directory dataset\n",
        "\n",
        "total_images = 0\n",
        "classes = []\n",
        "for _dir in os.listdir(DATASET_PATH):\n",
        "    count = 0\n",
        "    for f in os.listdir(DATASET_PATH + _dir + \"/\"):\n",
        "        count += 1\n",
        "        total_images += 1\n",
        "        \n",
        "    classes.append(_dir)\n",
        "    print(f\"{_dir} => {count} imagens\")\n",
        "    \n",
        "print('\\n----------------------------------------------')    \n",
        "print(f\"\\nTotal: {total_images} imagens\")\n",
        "print('Total de classes: ', len(classes))\n",
        "print('Classes: ', classes)\n",
        "print('\\n----------------------------------------------')    "
      ],
      "execution_count": null,
      "outputs": []
    },
    {
      "cell_type": "code",
      "metadata": {
        "id": "p0MrUVk2SKjH"
      },
      "source": [
        "img_arr = np.empty(shape=(total_images, 48, 48, 3))\n",
        "img_label = np.empty(shape=(total_images))\n",
        "label_to_text = {}\n",
        "\n",
        "i = 0\n",
        "e = 0\n",
        "for dir_ in os.listdir(DATASET_PATH):\n",
        "    if dir_ in classes:\n",
        "        label_to_text[e] = dir_\n",
        "        for f in os.listdir(DATASET_PATH + dir_ + \"/\"):\n",
        "\n",
        "            image = cv2.imread(DATASET_PATH + dir_ + \"/\" + f)\n",
        "            img_arr[i] = cv2.resize(image, (48, 48))\n",
        "\n",
        "\n",
        "            img_label[i] = e\n",
        "\n",
        "            i += 1\n",
        "        print(f\"loaded all {dir_} images to numpy arrays\")\n",
        "        e += 1\n",
        "\n",
        "img_arr.shape, img_label"
      ],
      "execution_count": null,
      "outputs": []
    },
    {
      "cell_type": "code",
      "metadata": {
        "id": "Mfv88B4GSNAd"
      },
      "source": [
        "img_arr"
      ],
      "execution_count": null,
      "outputs": []
    },
    {
      "cell_type": "code",
      "metadata": {
        "id": "8TkEZdQmSPAd"
      },
      "source": [
        "# Classes\n",
        "\n",
        "label_to_text"
      ],
      "execution_count": null,
      "outputs": []
    },
    {
      "cell_type": "code",
      "metadata": {
        "id": "QPFdNmGpSRHv"
      },
      "source": [
        "# Visualização Randômica de 2 imagens por classe.\n",
        "\n",
        "fig = pyplot.figure(1, (8, 8))\n",
        "\n",
        "idx = 0\n",
        "for k in label_to_text:\n",
        "    \n",
        "    sample_indices = np.random.choice(np.where(img_label==k)[0], size=2, replace=False)\n",
        "    sample_images = img_arr[sample_indices]\n",
        "    \n",
        "    for img in sample_images:\n",
        "        idx += 1\n",
        "        ax = pyplot.subplot(4, 4, idx)\n",
        "        ax.imshow(img[:,:,0], cmap='gray')\n",
        "        ax.set_xticks([])\n",
        "        ax.set_yticks([])\n",
        "        ax.set_title(label_to_text[k])\n",
        "        pyplot.tight_layout()\n"
      ],
      "execution_count": null,
      "outputs": []
    },
    {
      "cell_type": "markdown",
      "metadata": {
        "id": "IZRZbS4jaR8Z"
      },
      "source": [
        "## Processamento de imagens"
      ]
    },
    {
      "cell_type": "code",
      "metadata": {
        "id": "D5UTYqtEcJQv"
      },
      "source": [
        "train_data = np.array(img_arr, dtype=\"float\") / 255.0\n",
        "# test_data = np.array(test_data, dtype=\"float\") / 255.0\n",
        "\n",
        "le = LabelEncoder()\n",
        "train_label = le.fit_transform(img_label)\n",
        "train_label = to_categorical(train_label)\n",
        "\n",
        "X_train, X_test, y_train, y_test = train_test_split(train_data, train_label, test_size=0.20, random_state=42)\n",
        "print(X_train, X_test, y_train, y_test)"
      ],
      "execution_count": null,
      "outputs": []
    },
    {
      "cell_type": "code",
      "metadata": {
        "id": "02g11mgnehvR"
      },
      "source": [
        "data_generator = ImageDataGenerator(\n",
        "        rotation_range=20,\n",
        "        zoom_range=0.15,\n",
        "        width_shift_range=0.2,\n",
        "        height_shift_range=0.2,\n",
        "        shear_range=0.15,\n",
        "        horizontal_flip=True,\n",
        "        fill_mode=\"nearest\")"
      ],
      "execution_count": null,
      "outputs": []
    },
    {
      "cell_type": "code",
      "metadata": {
        "id": "ao4mSR0OhaJv"
      },
      "source": [
        "model = Sequential()\n",
        "\n",
        "model.add(Conv2D(30, (3, 3), input_shape=(48, 48, 3), activation='relu'))\n",
        "\n",
        "model.add(MaxPooling2D(pool_size=(2, 2)))\n",
        "\n",
        "model.add(Conv2D(15, (3, 3), input_shape=(3, 48, 48), activation='relu'))\n",
        "\n",
        "model.add(MaxPooling2D(pool_size=(2, 2)))\n",
        "\n",
        "model.add(Dropout(0.2))\n",
        "\n",
        "model.add(Flatten())\n",
        "\n",
        "model.add(Dense(512, activation='relu'))\n",
        "\n",
        "model.add(Dense(256, activation='relu'))\n",
        "\n",
        "model.add(Dense(128, activation='relu'))\n",
        "\n",
        "model.add(Dense(64, activation='relu'))\n",
        "\n",
        "model.add(Dense(num_classes, activation='softmax', name='predict'))\n",
        "\n",
        "model.compile(loss='categorical_crossentropy', optimizer='adam', metrics=['accuracy'])\n",
        "\n",
        "model.summary()"
      ],
      "execution_count": null,
      "outputs": []
    },
    {
      "cell_type": "code",
      "metadata": {
        "id": "-i62rvu0iX11"
      },
      "source": [
        "model.fit(data_generator.flow(X_train, y_train),\n",
        "                        # steps_per_epoch=len(X_train) / 128,\n",
        "                        epochs=20, verbose=1,\n",
        "                        validation_data=(X_test,y_test))"
      ],
      "execution_count": null,
      "outputs": []
    },
    {
      "cell_type": "code",
      "metadata": {
        "id": "sO_KTNZOm4UK"
      },
      "source": [
        "scores = model.evaluate(X_test, y_test, verbose=0)\n",
        "print(\"\\nacc: %.2f%%\" % (scores[1]*100))"
      ],
      "execution_count": null,
      "outputs": []
    },
    {
      "cell_type": "markdown",
      "metadata": {
        "id": "uuZW8AZQmqVd"
      },
      "source": [
        "## Validaçao do modelo\n"
      ]
    },
    {
      "cell_type": "code",
      "metadata": {
        "id": "b2gsRw1FmyIK"
      },
      "source": [
        "image_url = 'https://raw.githubusercontent.com/charlessantarosa/dl-emotion-recognition-uea/main/e1.png'\n",
        "req = urlopen(image_url)\n",
        "image = np.asarray(bytearray(req.read()), dtype=np.uint8)\n",
        "image = cv2.imdecode(image, -1)\n",
        "\n",
        "plt.imshow(image, cmap='gray')\n",
        "\n",
        "print(image.shape)\n",
        "img = cv2.resize(image, (48, 48), interpolation = cv2.INTER_AREA)\n",
        "img_pred = img.reshape(-1, 48, 48).astype('float32')\n",
        "\n",
        "print(img_pred.shape)\n",
        "# img_pred = img_pred.reshape(48, 48, 3).astype('float32')\n",
        "# img_pred = img_pred/255.0\n",
        "\n",
        "\n",
        "\n",
        "pred = model.predict(np.array(img_pred))\n",
        "# pred_proba = model.predict_proba(img_pred)\n",
        "# pred_proba = \"%.2f%%\" % (pred_proba[0][pred]*100)\n",
        "\n",
        "# print(pred[0], \" com confiança de \", pred_proba)"
      ],
      "execution_count": null,
      "outputs": []
    }
  ]
}