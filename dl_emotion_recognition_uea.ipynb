{
  "nbformat": 4,
  "nbformat_minor": 0,
  "metadata": {
    "colab": {
      "name": "dl-emotion-recognition-uea.ipynb",
      "provenance": [],
      "collapsed_sections": [],
      "authorship_tag": "ABX9TyPrVzro6AXspNLDPu2xUyJa",
      "include_colab_link": true
    },
    "kernelspec": {
      "name": "python3",
      "display_name": "Python 3"
    },
    "language_info": {
      "name": "python"
    }
  },
  "cells": [
    {
      "cell_type": "markdown",
      "metadata": {
        "id": "view-in-github",
        "colab_type": "text"
      },
      "source": [
        "<a href=\"https://colab.research.google.com/github/charlessantarosa/dl-emotion-recognition-uea/blob/master/dl_emotion_recognition_uea.ipynb\" target=\"_parent\"><img src=\"https://colab.research.google.com/assets/colab-badge.svg\" alt=\"Open In Colab\"/></a>"
      ]
    },
    {
      "cell_type": "markdown",
      "metadata": {
        "id": "KPL-3IaZRw5Y"
      },
      "source": [
        "<div>\n",
        "    <h1><strong>Dataset: Natural Human Face Images for Emotion Recognition</strong></h1>\n",
        "    <h4>Link: <a href=\"https://www.kaggle.com/sudarshanvaidya/random-images-for-face-emotion-recognition\">sa</a></h4>\n",
        "    <div id=\"text\">\n",
        "        <p>\n",
        "São 5.500 + imagens com 8 categorias de emoções - raiva, desprezo, nojo, medo, felicidade, neutralidade, tristeza e surpresa. Todas as imagens contêm rosto humano em tons de cinza (ou esboço). Cada imagem tem uma escala de cinza de 224 x 224 pixels no formato PNG.</p>\n",
        "<p>As imagens são obtidas na Internet, onde estão disponíveis gratuitamente para download. Google, Unsplash, Flickr etc.</p>\n",
        "    </div>\n",
        "</div>"
      ]
    },
    {
      "cell_type": "code",
      "metadata": {
        "id": "xAD6xRIaOb6o"
      },
      "source": [
        "import os\n",
        "import cv2\n",
        "import math\n",
        "import numpy as np\n",
        "import pandas as pd\n",
        "\n",
        "import seaborn as sns\n",
        "from matplotlib import pyplot\n",
        "\n",
        "from sklearn.model_selection import train_test_split\n",
        "from sklearn.metrics import classification_report\n",
        "\n",
        "import tensorflow as tf\n",
        "from tensorflow.keras import optimizers\n",
        "from tensorflow.keras.models import Model\n",
        "from tensorflow.keras.layers import Flatten, Dense, GlobalAvgPool2D, GlobalMaxPool2D\n",
        "from tensorflow.keras.callbacks import Callback, EarlyStopping, ReduceLROnPlateau\n",
        "from tensorflow.keras.preprocessing.image import ImageDataGenerator\n",
        "from tensorflow.keras.applications.mobilenet import MobileNet\n",
        "from tensorflow.keras.utils import plot_model\n",
        "\n",
        "from keras.utils import np_utils"
      ],
      "execution_count": 2,
      "outputs": []
    },
    {
      "cell_type": "code",
      "metadata": {
        "id": "8H_a3BulSAd-"
      },
      "source": [
        "# Vars definitions\n",
        "INPUT_PATH = '../input/random-images-for-face-emotion-recognition/'"
      ],
      "execution_count": null,
      "outputs": []
    },
    {
      "cell_type": "code",
      "metadata": {
        "id": "0Zc-D7HASH_v"
      },
      "source": [
        "# \n",
        "total_images = 0\n",
        "classes = []\n",
        "for _dir in os.listdir(INPUT_PATH):\n",
        "    count = 0\n",
        "    for f in os.listdir(INPUT_PATH + _dir + \"/\"):\n",
        "        count += 1\n",
        "        total_images += 1\n",
        "        \n",
        "    classes.append(_dir)\n",
        "    print(f\"{_dir} => {count} imagens\")\n",
        "    \n",
        "print('\\n----------------------------------------------')    \n",
        "print(f\"\\nTotal: {total_images} imagens\")\n",
        "print('Total de classes: ', len(classes))\n",
        "print('Classes: ', classes)\n",
        "print('\\n----------------------------------------------')    "
      ],
      "execution_count": null,
      "outputs": []
    },
    {
      "cell_type": "code",
      "metadata": {
        "id": "p0MrUVk2SKjH"
      },
      "source": [
        "img_arr = np.empty(shape=(total_images, 224, 224, 3))\n",
        "img_label = np.empty(shape=(total_images))\n",
        "label_to_text = {}\n",
        "\n",
        "i = 0\n",
        "e = 0\n",
        "for dir_ in os.listdir(INPUT_PATH):\n",
        "    if dir_ in classes:\n",
        "        label_to_text[e] = dir_\n",
        "        for f in os.listdir(INPUT_PATH + dir_ + \"/\"):\n",
        "            img_arr[i] = cv2.imread(INPUT_PATH + dir_ + \"/\" + f)\n",
        "            img_label[i] = e\n",
        "            i += 1\n",
        "        print(f\"loaded all {dir_} images to numpy arrays\")\n",
        "        e += 1\n",
        "\n",
        "img_arr.shape, img_label"
      ],
      "execution_count": null,
      "outputs": []
    },
    {
      "cell_type": "code",
      "metadata": {
        "id": "Mfv88B4GSNAd"
      },
      "source": [
        "print(img_arr[-1])"
      ],
      "execution_count": null,
      "outputs": []
    },
    {
      "cell_type": "code",
      "metadata": {
        "id": "8TkEZdQmSPAd"
      },
      "source": [
        "# Classes\n",
        "\n",
        "label_to_text"
      ],
      "execution_count": null,
      "outputs": []
    },
    {
      "cell_type": "code",
      "metadata": {
        "id": "QPFdNmGpSRHv"
      },
      "source": [
        "# Visualização Randômica de 2 imagens por classe.\n",
        "\n",
        "fig = pyplot.figure(1, (8, 8))\n",
        "\n",
        "idx = 0\n",
        "for k in label_to_text:\n",
        "    \n",
        "    sample_indices = np.random.choice(np.where(img_label==k)[0], size=2, replace=False)\n",
        "    sample_images = img_arr[sample_indices]\n",
        "    \n",
        "    for img in sample_images:\n",
        "        idx += 1\n",
        "        ax = pyplot.subplot(4, 4, idx)\n",
        "        ax.imshow(img[:,:,0], cmap='gray')\n",
        "        ax.set_xticks([])\n",
        "        ax.set_yticks([])\n",
        "        ax.set_title(label_to_text[k])\n",
        "        pyplot.tight_layout()\n"
      ],
      "execution_count": null,
      "outputs": []
    },
    {
      "cell_type": "code",
      "metadata": {
        "id": "ARafJBtySTub"
      },
      "source": [
        "X, Y = np.array(img_arr) / 255.0, np.array(img_label)"
      ],
      "execution_count": null,
      "outputs": []
    },
    {
      "cell_type": "code",
      "metadata": {
        "id": "sIZScnAHSVru"
      },
      "source": [
        "X"
      ],
      "execution_count": null,
      "outputs": []
    },
    {
      "cell_type": "code",
      "metadata": {
        "id": "G5N_6XSeSYor"
      },
      "source": [
        "print(X.shape)\n",
        "print(Y.shape)"
      ],
      "execution_count": null,
      "outputs": []
    },
    {
      "cell_type": "code",
      "metadata": {
        "id": "RK-AwPeQSao-"
      },
      "source": [
        "X_train, X_test, y_train, y_test = train_test_split(X, Y, test_size=0.1, random_state=0)"
      ],
      "execution_count": null,
      "outputs": []
    },
    {
      "cell_type": "code",
      "metadata": {
        "id": "WJA4u0pPSco2"
      },
      "source": [
        "y_train = (np.arange(num_class) == y_train[:, None]).astype(np.float32)\n",
        "y_test = (np.arange(num_class) == y_test[:, None]).astype(np.float32)"
      ],
      "execution_count": null,
      "outputs": []
    }
  ]
}